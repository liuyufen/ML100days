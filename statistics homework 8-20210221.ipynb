{
 "cells": [
  {
   "cell_type": "code",
   "execution_count": 1,
   "metadata": {},
   "outputs": [],
   "source": [
    "# library\n",
    "import matplotlib.pyplot as plt\n",
    "import numpy as np\n",
    "import pandas as pd\n",
    "from scipy import stats\n",
    "import math\n",
    "import statistics\n",
    "import seaborn as sns"
   ]
  },
  {
   "cell_type": "code",
   "execution_count": 2,
   "metadata": {},
   "outputs": [
    {
     "data": {
      "text/plain": [
       "(4.834937784152282, 1.3318728439003627e-06)"
      ]
     },
     "execution_count": 2,
     "metadata": {},
     "output_type": "execute_result"
    }
   ],
   "source": [
    "#某工廠想知道兩條不同的生產線的產品不良率是否有所不同，由兩條生產線中各抽取 300 個樣本，第一組有 75 個不良品，第二組有 30 個不良品，\n",
    "#我們可以宣稱生產線所生產出的產品不良率不相同? (以 0.05 為顯著水準)?\n",
    "#第一組產品不良率為Pa，第二組產品不良率為Pb\n",
    "#H0:Pa=Pb,H1:Pa≠Pb(用雙樣本雙尾檢定)\n",
    "#計算出的P-Value=0.000133187284390036%<5%，所以有足夠的證據支持H1,拒絕H0。即我們可以宣稱生產線所生產出的產品不良率不相同。\n",
    "import statsmodels.stats.proportion\n",
    "A = [75,30] # 不良品的個數\n",
    "B = [300,300] #各組樣本總個數\n",
    "statsmodels.stats.proportion.proportions_ztest(A, B, alternative='two-sided')"
   ]
  },
  {
   "cell_type": "code",
   "execution_count": null,
   "metadata": {},
   "outputs": [],
   "source": []
  }
 ],
 "metadata": {
  "kernelspec": {
   "display_name": "Python 3",
   "language": "python",
   "name": "python3"
  },
  "language_info": {
   "codemirror_mode": {
    "name": "ipython",
    "version": 3
   },
   "file_extension": ".py",
   "mimetype": "text/x-python",
   "name": "python",
   "nbconvert_exporter": "python",
   "pygments_lexer": "ipython3",
   "version": "3.8.5"
  }
 },
 "nbformat": 4,
 "nbformat_minor": 4
}

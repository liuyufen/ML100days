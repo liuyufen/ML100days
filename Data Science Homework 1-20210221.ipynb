{
 "cells": [
  {
   "cell_type": "code",
   "execution_count": 1,
   "metadata": {},
   "outputs": [],
   "source": [
    "#今天課程中以一個案例，說明資料分析的流程與探索性分析，是否對於課程中一開始的問題，更有想法了?!\n",
    "#Q1: 哪一個問題不適合用資料科學解決?\n",
    "#挑選 Mr./Ms. Right"
   ]
  },
  {
   "cell_type": "code",
   "execution_count": 2,
   "metadata": {},
   "outputs": [],
   "source": [
    "#Q2: 以你的角度來分析，為什麼這樣的問題，較不適合用Q2: 以你的角度來分析，為什麼這樣的問題，較不適合用資料科學來解決?資料科學來解決?\n",
    "#判斷是否為Mr./Ms. Right，個人認為下列可能為重要變數：\n",
    "#可具體化變數：年齡、收入、學歷、身高…\n",
    "#抽象無法具體化變數：價值觀、個性、生活習慣、與原生家庭互動情況…\n",
    "#因資料科學是透過數據來解決問題的科學，但在協助客戶挑選Mr./Ms.時，一些上述抽象無法具體化的重要變數因無法化為數據進行資料處理分析，\n",
    "#所以在最後的資訊呈現可能會有疏漏，故不宜用資料科學來解決。"
   ]
  },
  {
   "cell_type": "code",
   "execution_count": null,
   "metadata": {},
   "outputs": [],
   "source": []
  }
 ],
 "metadata": {
  "kernelspec": {
   "display_name": "Python 3",
   "language": "python",
   "name": "python3"
  },
  "language_info": {
   "codemirror_mode": {
    "name": "ipython",
    "version": 3
   },
   "file_extension": ".py",
   "mimetype": "text/x-python",
   "name": "python",
   "nbconvert_exporter": "python",
   "pygments_lexer": "ipython3",
   "version": "3.8.5"
  }
 },
 "nbformat": 4,
 "nbformat_minor": 4
}

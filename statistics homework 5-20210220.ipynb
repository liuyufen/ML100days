{
 "cells": [
  {
   "cell_type": "code",
   "execution_count": 1,
   "metadata": {},
   "outputs": [
    {
     "name": "stdout",
     "output_type": "stream",
     "text": [
      "P(B/A)= 0.5\n",
      "P(B/not A)= 0.1\n"
     ]
    }
   ],
   "source": [
    "#假設電影院中有100 個人裡面，有 90 名男性和 10 名女性。在這 10 名女性裡，有一半的人有長髮（5 人），另一半有短髮（5人）；\n",
    "#在 90 名男性當中，81 個人有短髮，9個人有長髮。\n",
    "#Q1: 所以根據這個情況條件下，你會預測照片中的長髮是男性或女性(直覺回答)?會預測為女性，因為P(長髮/女性)的機率0.5較P(長髮/男性)的機率0.1為高\n",
    "# P(A): P(女性)\n",
    "# P(not A): P(男性)\n",
    "# P(B): P(長髮)\n",
    "# calculate P(B|A),P(B/not A)\n",
    "print(\"P(B/A)=\",5/10)\n",
    "print(\"P(B/not A)=\",9/90)"
   ]
  },
  {
   "cell_type": "code",
   "execution_count": 2,
   "metadata": {},
   "outputs": [
    {
     "name": "stdout",
     "output_type": "stream",
     "text": [
      "P(A|B) = 0.35714285714285715\n"
     ]
    }
   ],
   "source": [
    "#Q2:以上圖資料，計算當你看到長髮時，是女生的機率?當看到長髮時，女性的機率為0.357，男性的機率為0.643\n",
    "# calculate P(A|B) given P(A), P(B|A), P(B|not A)\n",
    "def bayes_theorem(p_a, p_b_given_a, p_b_given_not_a):\n",
    "\t# calculate P(not A)\n",
    "\tnot_a = 1 - p_a\n",
    "\t# calculate P(B)\n",
    "\tp_b = p_b_given_a * p_a + p_b_given_not_a * not_a\n",
    "\t# calculate P(A|B)\n",
    "\tp_a_given_b = (p_b_given_a * p_a) / p_b\n",
    "\treturn p_a_given_b\n",
    " \n",
    "# P(A): P(女生)\n",
    "# P(not A): P(男生)\n",
    "p_a = 0.1\n",
    "# P(B|A): P(長髮|女生)\n",
    "p_b_given_a = 0.5\n",
    "# P(B|not A): P(長髮|男生)\n",
    "p_b_given_not_a = 0.1\n",
    "# calculate P(A|B): P(女生|長髮)\n",
    "result = bayes_theorem(p_a, p_b_given_a, p_b_given_not_a)\n",
    "# summarize\n",
    "# P(女生|長髮)\n",
    "print('P(A|B) =',result)"
   ]
  },
  {
   "cell_type": "code",
   "execution_count": null,
   "metadata": {},
   "outputs": [],
   "source": [
    "#Q3:你的決策因為男生女生比例不同(先驗分配不同)，和投影片的結果相比，決策有沒有改變?\n",
    "#因為男女生比例不同(先驗分配不同)，導致P(長髮/女性)=0.5&P(長髮/男性)=0.1 vs. P(女性/長髮)=0.357&P(男性/長髮)=0.643，因此決策會改變"
   ]
  }
 ],
 "metadata": {
  "kernelspec": {
   "display_name": "Python 3",
   "language": "python",
   "name": "python3"
  },
  "language_info": {
   "codemirror_mode": {
    "name": "ipython",
    "version": 3
   },
   "file_extension": ".py",
   "mimetype": "text/x-python",
   "name": "python",
   "nbconvert_exporter": "python",
   "pygments_lexer": "ipython3",
   "version": "3.8.5"
  }
 },
 "nbformat": 4,
 "nbformat_minor": 4
}

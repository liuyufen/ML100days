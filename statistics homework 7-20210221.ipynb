{
 "cells": [
  {
   "cell_type": "code",
   "execution_count": 1,
   "metadata": {},
   "outputs": [],
   "source": [
    "#在課堂中，檢定 𝐻_0:𝜇≤0， 𝐻_1:𝜇>0 ，假設在 𝐻_0 為真下，分配為 N(0,1)， 𝐻_1 為真下，分配為 N(2,1)。\n",
    "#假設 𝑋 ̅>1，拒絕 𝐻_0。如果拒絕域改變時，𝛼 和 𝛽 會怎樣變化，(sample mean 1.png) 可以拿起一張紙，試著畫畫看，就能找到答案。\n",
    "\n",
    "#Q1: 假設 𝑋 ̅>2，拒絕 𝐻_0，𝛼 會變大/變小? 𝛽 會變大/變小?\n",
    "#當𝑋 ̅>2時拒絕 𝐻_0，棄卻區往右移而縮小，此時𝛼 會變小，𝛽 會變大。"
   ]
  },
  {
   "cell_type": "code",
   "execution_count": 2,
   "metadata": {},
   "outputs": [],
   "source": [
    "#Q2: 假設 𝑋 ̅>0.2，拒絕 𝐻_0，𝛼 會變大/變小? 𝛽 會變大/變小?\n",
    "#當𝑋 ̅>0.2時拒絕 𝐻_0，棄卻區往左移而擴大，此時𝛼 會變大，𝛽 會變小。"
   ]
  },
  {
   "cell_type": "code",
   "execution_count": 3,
   "metadata": {},
   "outputs": [],
   "source": [
    "#Q3: 𝛼 和 𝛽 有關聯性?\n",
    "#α 與 β 互為拮抗，亦即 α  提高時、β 降低；反之亦然。\n",
    "#統計學上一般希望能將α控制在一定的程度。因此當固定 α 時，可透過增加樣本數達到降低 β 的目的。"
   ]
  },
  {
   "cell_type": "code",
   "execution_count": null,
   "metadata": {},
   "outputs": [],
   "source": []
  }
 ],
 "metadata": {
  "kernelspec": {
   "display_name": "Python 3",
   "language": "python",
   "name": "python3"
  },
  "language_info": {
   "codemirror_mode": {
    "name": "ipython",
    "version": 3
   },
   "file_extension": ".py",
   "mimetype": "text/x-python",
   "name": "python",
   "nbconvert_exporter": "python",
   "pygments_lexer": "ipython3",
   "version": "3.8.5"
  }
 },
 "nbformat": 4,
 "nbformat_minor": 4
}
